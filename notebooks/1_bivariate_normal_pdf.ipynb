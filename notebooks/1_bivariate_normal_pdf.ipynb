{
 "cells": [
  {
   "cell_type": "markdown",
   "metadata": {},
   "source": [
    "## PDF bi-variate normal plot"
   ]
  },
  {
   "cell_type": "code",
   "execution_count": null,
   "metadata": {},
   "outputs": [],
   "source": [
    "import logging\n",
    "\n",
    "import pandas as pd\n",
    "import numpy as np\n",
    "import matplotlib\n",
    "import matplotlib.pyplot as plt\n",
    "import seaborn as sns\n",
    "import xgboost as xgb\n",
    "\n",
    "import scipy.stats as sts\n",
    "from scipy.stats import norm\n",
    "from scipy.stats import multivariate_normal\n",
    "\n",
    "from synthsonic.models.kde_copula_nn_pdf import KDECopulaNNPdf"
   ]
  },
  {
   "cell_type": "code",
   "execution_count": null,
   "metadata": {},
   "outputs": [],
   "source": [
    "import ppu\n",
    "from ppu.viz import plot_dense_scatter, plot_ellipse_from_cov, plot_pdf_contours"
   ]
  },
  {
   "cell_type": "markdown",
   "metadata": {},
   "source": [
    "## Config"
   ]
  },
  {
   "cell_type": "code",
   "execution_count": null,
   "metadata": {},
   "outputs": [],
   "source": [
    "colors = ppu.viz.set_plot_style(True)"
   ]
  },
  {
   "cell_type": "code",
   "execution_count": null,
   "metadata": {},
   "outputs": [],
   "source": [
    "def _get_32bit_seed(rng):\n",
    "    return rng.integers(low=0, high=np.iinfo(np.uint32).max, size=1, dtype=np.uint32)[0]"
   ]
  },
  {
   "cell_type": "code",
   "execution_count": null,
   "metadata": {},
   "outputs": [],
   "source": [
    "rng = np.random.Generator(np.random.PCG64DXSM(42))"
   ]
  },
  {
   "cell_type": "markdown",
   "metadata": {},
   "source": [
    "## Data"
   ]
  },
  {
   "cell_type": "code",
   "execution_count": null,
   "metadata": {},
   "outputs": [],
   "source": [
    "n_samples = 100_000"
   ]
  },
  {
   "cell_type": "markdown",
   "metadata": {},
   "source": [
    "Generate bivariate gaussian with correlation"
   ]
  },
  {
   "cell_type": "code",
   "execution_count": null,
   "metadata": {},
   "outputs": [],
   "source": [
    "bg_gen = ppu.generator.BivariateGaussian(cov=0.7, rng=rng)"
   ]
  },
  {
   "cell_type": "code",
   "execution_count": null,
   "metadata": {},
   "outputs": [],
   "source": [
    "X = bg_gen.rvs(n_samples)"
   ]
  },
  {
   "cell_type": "markdown",
   "metadata": {},
   "source": [
    "Plot with the samples and the theoretical distribution"
   ]
  },
  {
   "cell_type": "code",
   "execution_count": null,
   "metadata": {},
   "outputs": [],
   "source": [
    "ax = bg_gen.plot(filled=False)\n",
    "ax = plot_dense_scatter(X, ax, color=colors[2])\n",
    "ax.set_title(\"samples Bi-variate standard normal\")"
   ]
  },
  {
   "cell_type": "markdown",
   "metadata": {},
   "source": [
    "## Fit\n",
    "\n",
    "Fit the DGP"
   ]
  },
  {
   "cell_type": "code",
   "execution_count": null,
   "metadata": {},
   "outputs": [],
   "source": [
    "pdf = KDECopulaNNPdf(random_state=_get_32bit_seed(rng))\n",
    "pdf = pdf.fit(X)"
   ]
  },
  {
   "cell_type": "markdown",
   "metadata": {},
   "source": [
    "From the fitted DGP sample points"
   ]
  },
  {
   "cell_type": "code",
   "execution_count": null,
   "metadata": {},
   "outputs": [],
   "source": [
    "X_gen = pdf.sample_no_weights(n_samples, random_state=_get_32bit_seed(rng))"
   ]
  },
  {
   "cell_type": "markdown",
   "metadata": {},
   "source": [
    "Plot generated points over expected joint distribution"
   ]
  },
  {
   "cell_type": "code",
   "execution_count": null,
   "metadata": {},
   "outputs": [],
   "source": [
    "ax = ax = bg_gen.plot(filled=False)\n",
    "ax = plot_dense_scatter(X_gen, ax)\n",
    "ax.set_title(\"$X_{gen}$ -- $X \\sim $Bivariate\")"
   ]
  },
  {
   "cell_type": "markdown",
   "metadata": {},
   "source": [
    "Fitted vs DGP"
   ]
  },
  {
   "cell_type": "code",
   "execution_count": null,
   "metadata": {},
   "outputs": [],
   "source": [
    "ax = ax = bg_gen.plot(filled=False)\n",
    "ax = plot_dense_scatter(X_gen, ax)\n",
    "ax = plot_dense_scatter(X, ax, color=colors[2])\n",
    "ax.set_title(\"$X_{gen}$ (red) -- $X$ (Blue) -- $X \\sim $Bivariate\")"
   ]
  },
  {
   "cell_type": "code",
   "execution_count": null,
   "metadata": {},
   "outputs": [],
   "source": [
    "def get_scaled_linspace(x, factor: float = 0.1):\n",
    "    return np.sort(X[:, 0])[[0, -1]] * np.array((1.0 - factor, 1.0 + factor))"
   ]
  },
  {
   "cell_type": "code",
   "execution_count": null,
   "metadata": {},
   "outputs": [],
   "source": [
    "n_bins = 500"
   ]
  },
  {
   "cell_type": "code",
   "execution_count": null,
   "metadata": {},
   "outputs": [],
   "source": [
    "x = np.linspace(*get_scaled_linspace(X[:, 0]), n_bins)\n",
    "y = np.linspace(*get_scaled_linspace(X[:, 1]), n_bins)\n",
    "\n",
    "xs, ys = np.meshgrid(x, y)\n",
    "X_grid = np.c_[xs.ravel(), ys.ravel()]"
   ]
  },
  {
   "cell_type": "code",
   "execution_count": null,
   "metadata": {},
   "outputs": [],
   "source": [
    "mean_xy = X.mean(0)\n",
    "sample_cov = np.cov(X, rowvar=False, ddof=1)"
   ]
  },
  {
   "cell_type": "code",
   "execution_count": null,
   "metadata": {},
   "outputs": [],
   "source": [
    "dgp_x_grid = bg_gen.dist.pdf(X_grid).reshape((n_bins, n_bins))"
   ]
  },
  {
   "cell_type": "code",
   "execution_count": null,
   "metadata": {},
   "outputs": [],
   "source": [
    "pdf_x_grid = pdf.pdf(X_grid).reshape((n_bins, n_bins))"
   ]
  },
  {
   "cell_type": "code",
   "execution_count": null,
   "metadata": {},
   "outputs": [],
   "source": [
    "ref_pdf = pdf.pdf(X)"
   ]
  },
  {
   "cell_type": "markdown",
   "metadata": {},
   "source": [
    "Compare estimated PDF vs DGP"
   ]
  },
  {
   "cell_type": "code",
   "execution_count": null,
   "metadata": {},
   "outputs": [],
   "source": [
    "levels = (0.90, 0.95, 0.975)\n",
    "fig, ax = plt.subplots(figsize=(12, 8))\n",
    "ax = bg_gen.plot(levels=levels, ax=ax)\n",
    "ax = plot_pdf_contours(xs, ys, pdf_x_grid, ref_pdf, ax=ax, levels=levels)\n",
    "_ = ax.set_title(\"$\\widehat{PDF}_{X}$ -- $X \\sim $Bivariate\")"
   ]
  },
  {
   "cell_type": "code",
   "execution_count": null,
   "metadata": {},
   "outputs": [],
   "source": [
    "levels = (0.9, 0.95, 0.99, 0.999)\n",
    "fig, ax = plt.subplots(figsize=(12, 8))\n",
    "ax = bg_gen.plot(levels=levels, ax=ax)\n",
    "ax = plot_pdf_contours(xs, ys, pdf_x_grid, ref_pdf, ax=ax, levels=levels)\n",
    "_ = ax.set_title(\"$\\widehat{PDF}_{X}$ -- $X \\sim $Bivariate\")"
   ]
  },
  {
   "cell_type": "code",
   "execution_count": null,
   "metadata": {},
   "outputs": [],
   "source": [
    "levels = (0.90, 0.95, 0.99, 0.99, 0.999)\n",
    "fig, ax = plt.subplots(figsize=(12, 8))\n",
    "ax = bg_gen.plot(ax=ax, levels=levels)\n",
    "ax = plot_pdf_contours(xs, ys, dgp_x_grid, bg_gen.dist.pdf(X), ax=ax, levels=levels)\n",
    "_ = ax.set_title(\"$PDF_{X}$ -- $X \\sim $Bivariate\")"
   ]
  },
  {
   "cell_type": "markdown",
   "metadata": {},
   "source": [
    "## Validate fit"
   ]
  },
  {
   "cell_type": "code",
   "execution_count": null,
   "metadata": {},
   "outputs": [],
   "source": [
    "assert False"
   ]
  },
  {
   "cell_type": "code",
   "execution_count": null,
   "metadata": {},
   "outputs": [],
   "source": [
    "pdf._calibrate_classifier(pdf.hist_p0_, pdf.hist_p1_, pdf.bin_edges_, validation_plots=True)"
   ]
  },
  {
   "cell_type": "code",
   "execution_count": null,
   "metadata": {},
   "outputs": [],
   "source": [
    "pdf.score(X)"
   ]
  },
  {
   "cell_type": "code",
   "execution_count": null,
   "metadata": {},
   "outputs": [],
   "source": [
    "p = pdf.pdf(X)\n",
    "logp = pdf.logpdf(X)"
   ]
  },
  {
   "cell_type": "code",
   "execution_count": null,
   "metadata": {},
   "outputs": [],
   "source": [
    "# theoretical pdf values\n",
    "p2 = bg_gen.dist.pdf(X)\n",
    "logp2 = np.log(p2)"
   ]
  },
  {
   "cell_type": "code",
   "execution_count": null,
   "metadata": {},
   "outputs": [],
   "source": [
    "X_gen = pdf.sample_no_weights(n_samples=X.shape[0])"
   ]
  },
  {
   "cell_type": "code",
   "execution_count": null,
   "metadata": {},
   "outputs": [],
   "source": [
    "s_cov = np.round(np.cov(X_gen.T), 3)[0, 1]\n",
    "s_mu = np.round(X_gen.mean(), 3)\n",
    "\n",
    "\n",
    "print('mu_hat: ', s_mu)\n",
    "print('cov_hat: ', s_cov)"
   ]
  },
  {
   "cell_type": "code",
   "execution_count": null,
   "metadata": {},
   "outputs": [],
   "source": [
    "# compare the two\n",
    "x = np.linspace(0, 0.223, 100)\n",
    "fig, ax = plt.subplots(figsize=(12, 8))\n",
    "ax.plot(x, x, lw=2, ls='--', zorder=10, color='black')\n",
    "ax.scatter(p2, p, s=0.005, color=colors[0], marker='x')\n",
    "ax.set_xlabel(r'$X$', fontsize=18)\n",
    "ax.set_ylabel(r'$X_{\\rm syn}$', fontsize=18)\n",
    "ax.set_ylim(-0.03, 0.35)\n",
    "ax.tick_params(labelsize=16)"
   ]
  },
  {
   "cell_type": "code",
   "execution_count": null,
   "metadata": {},
   "outputs": [],
   "source": [
    "# compare the two\n",
    "x = np.linspace(-12.5, -1.47, 100)\n",
    "fig, ax = plt.subplots(figsize=(12, 8))\n",
    "ax.plot(x, x, lw=3, ls='--', zorder=10, color='black')\n",
    "ax.scatter(logp2, logp, s=2, color=colors[0])\n",
    "ax.set_xlabel(r'$X$', fontsize=18)\n",
    "ax.set_ylabel(r'$X_{\\rm syn}$', fontsize=18)\n",
    "ax.tick_params(labelsize=16)"
   ]
  }
 ],
 "metadata": {
  "kernelspec": {
   "display_name": "Python 3 (ipykernel)",
   "language": "python",
   "name": "python3"
  },
  "language_info": {
   "codemirror_mode": {
    "name": "ipython",
    "version": 3
   },
   "file_extension": ".py",
   "mimetype": "text/x-python",
   "name": "python",
   "nbconvert_exporter": "python",
   "pygments_lexer": "ipython3",
   "version": "3.11.3"
  }
 },
 "nbformat": 4,
 "nbformat_minor": 4
}
